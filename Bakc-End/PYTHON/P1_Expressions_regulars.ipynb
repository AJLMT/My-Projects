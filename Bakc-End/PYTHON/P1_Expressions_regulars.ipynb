{
 "cells": [
  {
   "cell_type": "markdown",
   "metadata": {
    "id": "z1j9_6ZnMGxi"
   },
   "source": [
    "# Pràctica 1 de Processament de Llenguatge Natural:\n",
    "# Ús d'expressions regulars a Python\n",
    "En aquesta pràctica utilitzarem el mòdul `re` de Python i la llibreria Pandas per tractar amb expressions regulars."
   ]
  },
  {
   "cell_type": "markdown",
   "metadata": {},
   "source": [
    "### Noms:\n",
    "<span style=\"color:red;font-weight:700;font-size:20px\">\n",
    "Important!\n",
    "</span>\n",
    "Introdueix en aquesta cel·la els noms dels dos integrants del grup:\n",
    "\n",
    "*Alejandro Madrid Galarza*  \n",
    "*Antonio José López Martínez*"
   ]
  },
  {
   "cell_type": "code",
   "execution_count": 1,
   "metadata": {},
   "outputs": [
    {
     "name": "stderr",
     "output_type": "stream",
     "text": [
      "C:\\Users\\ajlmt\\AppData\\Local\\Temp\\ipykernel_17504\\1566173301.py:2: DeprecationWarning: \n",
      "Pyarrow will become a required dependency of pandas in the next major release of pandas (pandas 3.0),\n",
      "(to allow more performant data types, such as the Arrow string type, and better interoperability with other libraries)\n",
      "but was not found to be installed on your system.\n",
      "If this would cause problems for you,\n",
      "please provide us feedback at https://github.com/pandas-dev/pandas/issues/54466\n",
      "        \n",
      "  import pandas as pd\n"
     ]
    }
   ],
   "source": [
    "import re\n",
    "import pandas as pd"
   ]
  },
  {
   "cell_type": "markdown",
   "metadata": {},
   "source": [
    "## Cerca de patrons"
   ]
  },
  {
   "cell_type": "code",
   "execution_count": 2,
   "metadata": {
    "colab": {
     "base_uri": "https://localhost:8080/"
    },
    "executionInfo": {
     "elapsed": 1133,
     "status": "ok",
     "timestamp": 1612889816666,
     "user": {
      "displayName": "Fernando Mateo",
      "photoUrl": "https://lh3.googleusercontent.com/a-/AOh14Gizefb6yPZHZKjiub7uZkBVDAAlyxghIopf0kaJMA=s64",
      "userId": "00905419803076074042"
     },
     "user_tz": -60
    },
    "id": "bet3rS2FMGxp",
    "outputId": "2db221ca-1521-4b22-d5c5-a2ca2641916f"
   },
   "outputs": [],
   "source": [
    "texto = '\"Ethics are built right into the ideals and objectives of the United Nations\" \\\n",
    "#UNSG @NY @UN_Women Society for Ethical Culture bit.ly/2guVelr'\n"
   ]
  },
  {
   "cell_type": "markdown",
   "metadata": {
    "id": "_IL6RpK8MGxr"
   },
   "source": [
    "### Exercici 1\n",
    "Cerca totes les mencions del text (patró `@texto`)"
   ]
  },
  {
   "cell_type": "code",
   "execution_count": 3,
   "metadata": {
    "colab": {
     "base_uri": "https://localhost:8080/"
    },
    "executionInfo": {
     "elapsed": 1170,
     "status": "ok",
     "timestamp": 1612880901142,
     "user": {
      "displayName": "Fernando Mateo",
      "photoUrl": "https://lh3.googleusercontent.com/a-/AOh14Gizefb6yPZHZKjiub7uZkBVDAAlyxghIopf0kaJMA=s64",
      "userId": "00905419803076074042"
     },
     "user_tz": -60
    },
    "id": "ZcG_0_xyMGxs",
    "outputId": "f43cc50b-9f98-4fce-a54a-a68db16d885e"
   },
   "outputs": [
    {
     "name": "stdout",
     "output_type": "stream",
     "text": [
      "['@NY', '@UN_Women']\n"
     ]
    }
   ],
   "source": [
    "words = re.findall(r\"@\\w+\", texto)\n",
    "\n",
    "print(words)"
   ]
  },
  {
   "cell_type": "markdown",
   "metadata": {},
   "source": [
    "### Exercici 2\n",
    "Indica la posició d'inici i longitud de cada menció del text"
   ]
  },
  {
   "cell_type": "code",
   "execution_count": 8,
   "metadata": {
    "colab": {
     "base_uri": "https://localhost:8080/"
    },
    "executionInfo": {
     "elapsed": 893,
     "status": "ok",
     "timestamp": 1612880903173,
     "user": {
      "displayName": "Fernando Mateo",
      "photoUrl": "https://lh3.googleusercontent.com/a-/AOh14Gizefb6yPZHZKjiub7uZkBVDAAlyxghIopf0kaJMA=s64",
      "userId": "00905419803076074042"
     },
     "user_tz": -60
    },
    "id": "olpyrlXmMGxu",
    "outputId": "72fd3d0a-b263-4de4-ca2a-470b4fa09176"
   },
   "outputs": [
    {
     "name": "stdout",
     "output_type": "stream",
     "text": [
      "Pocició: 84 longitud 3\n",
      "Pocició: 88 longitud 9\n"
     ]
    }
   ],
   "source": [
    "menciones = re.finditer(r'@\\w+', texto)\n",
    "for mencion in menciones:\n",
    "    inicio = mencion.start()\n",
    "    length = mencion.end() - mencion.start()\n",
    "    print(f\"Pocició: {inicio} longitud {length}\")"
   ]
  },
  {
   "cell_type": "markdown",
   "metadata": {
    "id": "o6hhKpi-MGxy"
   },
   "source": [
    "## Patrons complexos\n",
    "L'operador `OR` (`'|'`) serveix per especificar dos patrons alternatius\n",
    "### Exercici 3\n",
    "Cerca totes les mencions i *hashtags* del text"
   ]
  },
  {
   "cell_type": "code",
   "execution_count": 6,
   "metadata": {},
   "outputs": [
    {
     "name": "stdout",
     "output_type": "stream",
     "text": [
      "['#UNSG', '@NY', '@UN_Women']\n"
     ]
    }
   ],
   "source": [
    "words = re.findall(r\"@\\w+|#\\w+\", texto)\n",
    "\n",
    "print(words)"
   ]
  },
  {
   "cell_type": "markdown",
   "metadata": {},
   "source": [
    "### Exercici 4\n",
    "Captura totes les dates del text següent."
   ]
  },
  {
   "cell_type": "code",
   "execution_count": 9,
   "metadata": {
    "id": "fyqqM7F6MGxz"
   },
   "outputs": [],
   "source": [
    "fechas1 = '23/9/1977, 23/09/1977, 23-9-77, 23-9-1977'"
   ]
  },
  {
   "cell_type": "code",
   "execution_count": 10,
   "metadata": {
    "colab": {
     "base_uri": "https://localhost:8080/"
    },
    "executionInfo": {
     "elapsed": 598,
     "status": "ok",
     "timestamp": 1612880935513,
     "user": {
      "displayName": "Fernando Mateo",
      "photoUrl": "https://lh3.googleusercontent.com/a-/AOh14Gizefb6yPZHZKjiub7uZkBVDAAlyxghIopf0kaJMA=s64",
      "userId": "00905419803076074042"
     },
     "user_tz": -60
    },
    "id": "My-8NuPJMGx0",
    "outputId": "1ac4065d-3b56-4579-be3e-80e79337fab8"
   },
   "outputs": [
    {
     "data": {
      "text/plain": [
       "['23/9/1977', '23/09/1977', '23-9-77', '23-9-1977']"
      ]
     },
     "execution_count": 10,
     "metadata": {},
     "output_type": "execute_result"
    }
   ],
   "source": [
    "datos = re.findall(r'\\d{1,2}[-|/]\\d{1,2}[-|/]\\d{1,4}', fechas1)\n",
    "\n",
    "datos"
   ]
  },
  {
   "cell_type": "markdown",
   "metadata": {
    "id": "hdyeDY3UMGx2"
   },
   "source": [
    "### Exercici 5\n",
    "Detecta *totes* les dates d'aquest text (incloent-hi les que indiquen el mes amb text)"
   ]
  },
  {
   "cell_type": "code",
   "execution_count": 11,
   "metadata": {
    "id": "wyKor0_tMGx2"
   },
   "outputs": [],
   "source": [
    "fechas2 = '''Francisco nació el 28/3/78, se casó el 20 de mayo del 98 y tuvo 2 hijos,\n",
    "el primero nació el 3-10-2001 y el segundo el 2 de junio de 2004'''"
   ]
  },
  {
   "cell_type": "code",
   "execution_count": 12,
   "metadata": {
    "colab": {
     "base_uri": "https://localhost:8080/"
    },
    "executionInfo": {
     "elapsed": 1993,
     "status": "ok",
     "timestamp": 1612880949115,
     "user": {
      "displayName": "Fernando Mateo",
      "photoUrl": "https://lh3.googleusercontent.com/a-/AOh14Gizefb6yPZHZKjiub7uZkBVDAAlyxghIopf0kaJMA=s64",
      "userId": "00905419803076074042"
     },
     "user_tz": -60
    },
    "id": "JsFlS1BQMGx3",
    "outputId": "12b4a0a2-c927-41a0-a041-b88433c02271"
   },
   "outputs": [
    {
     "data": {
      "text/plain": [
       "['28/3/78', '20 de mayo del 98', '3-10-2001', '2 de junio de 2004']"
      ]
     },
     "execution_count": 12,
     "metadata": {},
     "output_type": "execute_result"
    }
   ],
   "source": [
    "patron2 = r'(?:\\d{1,2}?[-|/]\\d{1,2}[-|/]\\d{1,4})|(?:\\d{1,2}\\s+de\\s+(?:enero|febrero|marzo|abril|mayo|junio|julio|agosto|septiembre|octubre|noviembre|diciembre)\\s+(?:de|del)\\s+\\d{1,4})'\n",
    "\n",
    "datos = re.findall(patron2, fechas2)\n",
    "datos"
   ]
  },
  {
   "cell_type": "markdown",
   "metadata": {
    "id": "TaiWM5QTMGx4"
   },
   "source": [
    "## Captura de grups\n",
    "Podem buscar un patró compost però només recuperar-ne una part específica.\n",
    "### Exercici 6\n",
    "Captura els mesos numèrics només del string `fechas2`"
   ]
  },
  {
   "cell_type": "code",
   "execution_count": 13,
   "metadata": {},
   "outputs": [
    {
     "data": {
      "text/plain": [
       "['3', '10']"
      ]
     },
     "execution_count": 13,
     "metadata": {},
     "output_type": "execute_result"
    }
   ],
   "source": [
    "patron3 = r'\\d{1,2}[-|/](\\d{1,2})[-|/]\\d{2,4}'\n",
    "\n",
    "datos = re.findall(patron3, fechas2)\n",
    "datos"
   ]
  },
  {
   "cell_type": "markdown",
   "metadata": {
    "id": "0xwmDKa7MGx5"
   },
   "source": [
    "### Exercici 7\n",
    "*Quants gr de sucre té la recepta següent?*\n",
    "Utilitza captura de grups per obtenir aquesta informació"
   ]
  },
  {
   "cell_type": "code",
   "execution_count": 14,
   "metadata": {},
   "outputs": [],
   "source": [
    "texto = '''Ingredientes de Arroz con Leche:\n",
    "- 200 gramos de arroz\n",
    "- 150 gramos de azúcar\n",
    "- 1 litro de leche entera\n",
    "- Dos ramas de canela\n",
    "- Piel de un limón\n",
    "- Canela molida\n",
    "- 50 gramos de mantequilla (Opcional)\n",
    "'''"
   ]
  },
  {
   "cell_type": "code",
   "execution_count": 15,
   "metadata": {
    "colab": {
     "base_uri": "https://localhost:8080/"
    },
    "executionInfo": {
     "elapsed": 849,
     "status": "ok",
     "timestamp": 1612881025200,
     "user": {
      "displayName": "Fernando Mateo",
      "photoUrl": "https://lh3.googleusercontent.com/a-/AOh14Gizefb6yPZHZKjiub7uZkBVDAAlyxghIopf0kaJMA=s64",
      "userId": "00905419803076074042"
     },
     "user_tz": -60
    },
    "id": "xbEJfU51MGx9",
    "outputId": "9ee7a982-8f0b-4103-bd9d-6a95e9611ecb"
   },
   "outputs": [
    {
     "data": {
      "text/plain": [
       "<re.Match object; span=(57, 77), match='150 gramos de azúcar'>"
      ]
     },
     "execution_count": 15,
     "metadata": {},
     "output_type": "execute_result"
    }
   ],
   "source": [
    "patron4 = r'(?P<cantidad>\\d+)\\s+gramos\\s+de\\s+azúcar'\n",
    "\n",
    "datos = re.search(patron4, texto)\n",
    "datos"
   ]
  },
  {
   "cell_type": "markdown",
   "metadata": {
    "id": "qV31RryBMGx9"
   },
   "source": [
    "### Exercici 8\n",
    "Podem definir diversos grups a la captura i recuperar-los com una tupla de textos.\\\n",
    "*P.ex. Quants grams de cada ingredient tenim?*\\\n",
    "Torna tots els ingredients amb el patró `GRAMS de INGREDIENT` com una llista de tuples `(GRAMS, INGREDIENT)`"
   ]
  },
  {
   "cell_type": "code",
   "execution_count": 16,
   "metadata": {
    "colab": {
     "base_uri": "https://localhost:8080/"
    },
    "executionInfo": {
     "elapsed": 549,
     "status": "ok",
     "timestamp": 1612881034067,
     "user": {
      "displayName": "Fernando Mateo",
      "photoUrl": "https://lh3.googleusercontent.com/a-/AOh14Gizefb6yPZHZKjiub7uZkBVDAAlyxghIopf0kaJMA=s64",
      "userId": "00905419803076074042"
     },
     "user_tz": -60
    },
    "id": "JfwzODefMGx-",
    "outputId": "c498b285-a81d-4c3b-fa33-27a797640f36"
   },
   "outputs": [
    {
     "name": "stdout",
     "output_type": "stream",
     "text": [
      "Cantidad: 200 gramos de arroz\n",
      "Cantidad: 150 gramos de azúcar\n",
      "Cantidad: 50 gramos de mantequilla (Opcional)\n"
     ]
    }
   ],
   "source": [
    "patron5 = r'(?P<cantidad>\\d+)\\s+gramos\\s+de\\s+(?P<ingrediente>.+)'\n",
    "\n",
    "datos = re.findall(patron5, texto)\n",
    "for gramos, ingrediente in datos:\n",
    "    print(f\"Cantidad: {gramos} gramos de {ingrediente}\")\n"
   ]
  },
  {
   "cell_type": "markdown",
   "metadata": {
    "id": "bby7ifbcMGyD"
   },
   "source": [
    "### Exercici 9\n",
    "Genera un diccionari de Python amb els grams de cada ingredient a partir de la llista de `matches` de l'exercici anterior (usa el nom de l'ingredient com a `clau` i els grams com a `valor`)."
   ]
  },
  {
   "cell_type": "code",
   "execution_count": 17,
   "metadata": {
    "colab": {
     "base_uri": "https://localhost:8080/"
    },
    "executionInfo": {
     "elapsed": 583,
     "status": "ok",
     "timestamp": 1612885864930,
     "user": {
      "displayName": "Fernando Mateo",
      "photoUrl": "https://lh3.googleusercontent.com/a-/AOh14Gizefb6yPZHZKjiub7uZkBVDAAlyxghIopf0kaJMA=s64",
      "userId": "00905419803076074042"
     },
     "user_tz": -60
    },
    "id": "TOqwI9_FMGyE",
    "outputId": "2c259a16-8558-4c3a-93ab-60f1318498c3"
   },
   "outputs": [
    {
     "data": {
      "text/plain": [
       "{'arroz': '200', 'azúcar': '150', 'mantequilla (Opcional)': '50'}"
      ]
     },
     "execution_count": 17,
     "metadata": {},
     "output_type": "execute_result"
    }
   ],
   "source": [
    "diccionario = dict([])\n",
    "\n",
    "for cant, ingred in datos:\n",
    "    diccionario[ingred] = cant\n",
    "\n",
    "diccionario"
   ]
  },
  {
   "cell_type": "markdown",
   "metadata": {
    "id": "5NsTgQg9ulBm"
   },
   "source": [
    "### Exercici 10\n",
    "\n",
    "Donat el text següent:"
   ]
  },
  {
   "cell_type": "code",
   "execution_count": 18,
   "metadata": {
    "executionInfo": {
     "elapsed": 448,
     "status": "ok",
     "timestamp": 1612890129973,
     "user": {
      "displayName": "Fernando Mateo",
      "photoUrl": "https://lh3.googleusercontent.com/a-/AOh14Gizefb6yPZHZKjiub7uZkBVDAAlyxghIopf0kaJMA=s64",
      "userId": "00905419803076074042"
     },
     "user_tz": -60
    },
    "id": "Prm2vyk8YNkj"
   },
   "outputs": [],
   "source": [
    "texto = 'Some authors like Jason Foster (y.foster@abcd.com), R. Davis (rdavis22@www.uk) and Charlotte Williams (ch_williams@usa.gov) observed that...'"
   ]
  },
  {
   "cell_type": "markdown",
   "metadata": {
    "id": "1Y3qGB56cIH0"
   },
   "source": [
    "#### Ex 10.1\n",
    "Extrau tots els noms, cognoms i correus de persones d'aquest text com una llista de diccionaris amb les claus `nom`, `cognom` i `correu`.\\\n",
    "Ajuda: Utilitza una captura de grups amb nom i utilitza el mètode `groupdict` per obtenir el diccionari demanat per a cada match*."
   ]
  },
  {
   "cell_type": "code",
   "execution_count": 19,
   "metadata": {
    "executionInfo": {
     "elapsed": 691,
     "status": "ok",
     "timestamp": 1612890133064,
     "user": {
      "displayName": "Fernando Mateo",
      "photoUrl": "https://lh3.googleusercontent.com/a-/AOh14Gizefb6yPZHZKjiub7uZkBVDAAlyxghIopf0kaJMA=s64",
      "userId": "00905419803076074042"
     },
     "user_tz": -60
    },
    "id": "_VS6-koPY5ho"
   },
   "outputs": [
    {
     "data": {
      "text/plain": [
       "[{'nombre': 'Jason', 'apellido': 'Foster', 'correo': 'y.foster@abcd.com'},\n",
       " {'nombre': 'R.', 'apellido': 'Davis', 'correo': 'rdavis22@www.uk'},\n",
       " {'nombre': 'Charlotte',\n",
       "  'apellido': 'Williams',\n",
       "  'correo': 'ch_williams@usa.gov'}]"
      ]
     },
     "execution_count": 19,
     "metadata": {},
     "output_type": "execute_result"
    }
   ],
   "source": [
    "patron6 = r'\\s+(?P<nombre>\\b[A-Z][a-z]*.)\\s+(?P<apellido>\\b[A-Z][a-z]+)\\s+.(?P<correo>[A-Za-z._0-9]+@[a-z]+\\.[a-z]+)'\n",
    "\n",
    "datos = re.finditer(patron6, texto)\n",
    "lista = []\n",
    "\n",
    "for dato in datos:\n",
    "    lista.append(dato.groupdict())\n",
    "\n",
    "lista"
   ]
  },
  {
   "cell_type": "markdown",
   "metadata": {
    "id": "4oYF-fbkvzBG"
   },
   "source": [
    "#### Ex. 10.2\n",
    "Converteix aquesta llista en un DataFrame de Pandas."
   ]
  },
  {
   "cell_type": "code",
   "execution_count": 20,
   "metadata": {
    "colab": {
     "base_uri": "https://localhost:8080/"
    },
    "executionInfo": {
     "elapsed": 810,
     "status": "ok",
     "timestamp": 1612890144981,
     "user": {
      "displayName": "Fernando Mateo",
      "photoUrl": "https://lh3.googleusercontent.com/a-/AOh14Gizefb6yPZHZKjiub7uZkBVDAAlyxghIopf0kaJMA=s64",
      "userId": "00905419803076074042"
     },
     "user_tz": -60
    },
    "id": "DlgOp6kXkaA6",
    "outputId": "fe959c90-474a-4b84-d2f3-724925144bb5"
   },
   "outputs": [
    {
     "data": {
      "text/html": [
       "<div>\n",
       "<style scoped>\n",
       "    .dataframe tbody tr th:only-of-type {\n",
       "        vertical-align: middle;\n",
       "    }\n",
       "\n",
       "    .dataframe tbody tr th {\n",
       "        vertical-align: top;\n",
       "    }\n",
       "\n",
       "    .dataframe thead th {\n",
       "        text-align: right;\n",
       "    }\n",
       "</style>\n",
       "<table border=\"1\" class=\"dataframe\">\n",
       "  <thead>\n",
       "    <tr style=\"text-align: right;\">\n",
       "      <th></th>\n",
       "      <th>nombre</th>\n",
       "      <th>apellido</th>\n",
       "      <th>correo</th>\n",
       "    </tr>\n",
       "  </thead>\n",
       "  <tbody>\n",
       "    <tr>\n",
       "      <th>0</th>\n",
       "      <td>Jason</td>\n",
       "      <td>Foster</td>\n",
       "      <td>y.foster@abcd.com</td>\n",
       "    </tr>\n",
       "    <tr>\n",
       "      <th>1</th>\n",
       "      <td>R.</td>\n",
       "      <td>Davis</td>\n",
       "      <td>rdavis22@www.uk</td>\n",
       "    </tr>\n",
       "    <tr>\n",
       "      <th>2</th>\n",
       "      <td>Charlotte</td>\n",
       "      <td>Williams</td>\n",
       "      <td>ch_williams@usa.gov</td>\n",
       "    </tr>\n",
       "  </tbody>\n",
       "</table>\n",
       "</div>"
      ],
      "text/plain": [
       "      nombre  apellido               correo\n",
       "0      Jason    Foster    y.foster@abcd.com\n",
       "1         R.     Davis      rdavis22@www.uk\n",
       "2  Charlotte  Williams  ch_williams@usa.gov"
      ]
     },
     "execution_count": 20,
     "metadata": {},
     "output_type": "execute_result"
    }
   ],
   "source": [
    "DataF = pd.DataFrame(lista)\n",
    "\n",
    "DataF"
   ]
  },
  {
   "cell_type": "markdown",
   "metadata": {},
   "source": [
    "## Ús de non-capturing groups\n",
    "Quan fem servir un grup per definir un patró complex però volem capturar tota l'expressió fem servir un *non-capturing group*.\n",
    "### Exercici 11\n",
    "Captura tots els números de telèfon amb prefix de Madrid (91 o 81) de la llista següent:"
   ]
  },
  {
   "cell_type": "code",
   "execution_count": 21,
   "metadata": {},
   "outputs": [],
   "source": [
    "telefonos = \"96-3543467, 926765645, 915434222, 900100800, 81-38665443, 817654498\""
   ]
  },
  {
   "cell_type": "code",
   "execution_count": 22,
   "metadata": {},
   "outputs": [
    {
     "data": {
      "text/plain": [
       "['915434222', '81-38665443', '817654498']"
      ]
     },
     "execution_count": 22,
     "metadata": {},
     "output_type": "execute_result"
    }
   ],
   "source": [
    "patron7 = r'\\b(?:91|81)-*\\d{7,8}'\n",
    "\n",
    "datos = re.findall(patron7, telefonos)\n",
    "\n",
    "datos"
   ]
  },
  {
   "cell_type": "markdown",
   "metadata": {},
   "source": [
    "## Substitució de patrons\n",
    "La funció `re.sub()` permet substituir text capturat per una expressió regular.\n",
    "\n",
    "### Exercici 12\n",
    "Substitueix en el text següent els imports expressats com `$valor` a la forma `valor$`\\\n",
    "Nota: el símbol `$` té un significat especial a RegEx pel que cal escapar-lo com a `\\$`"
   ]
  },
  {
   "cell_type": "code",
   "execution_count": 23,
   "metadata": {},
   "outputs": [],
   "source": [
    "texto = \"El coste total fue de $320, repartidos en $225.7 en comida y $94.3 en bebida\""
   ]
  },
  {
   "cell_type": "code",
   "execution_count": 24,
   "metadata": {},
   "outputs": [
    {
     "data": {
      "text/plain": [
       "'El coste total fue de 320$, repartidos en 225.7$ en comida y 94.3$ en bebida'"
      ]
     },
     "execution_count": 24,
     "metadata": {},
     "output_type": "execute_result"
    }
   ],
   "source": [
    "patron8 = r'(\\$\\d[0-9.]+)'\n",
    "\n",
    "dato = re.sub(patron8, lambda x: f\"{x.group(1)[1:]}$\", texto)\n",
    "\n",
    "dato"
   ]
  },
  {
   "cell_type": "markdown",
   "metadata": {
    "id": "LBlzADiQMGyF"
   },
   "source": [
    "## Ús de RegEx amb objectes de Pandes\n",
    "Si tenim un objecte Series de Pandas, podem aplicar les funcions de text o de cerca d'expressions regulars sobre el contingut de cada element (en un DataFrame cada columna és un objecte Series)."
   ]
  },
  {
   "cell_type": "markdown",
   "metadata": {
    "id": "H1KOMDe2MGyH"
   },
   "source": [
    "### Captura de grups numerats:\n",
    "Amb el mètode `str.extractall` es capturen els grups de RegEx en un objecte de Pandas i el retorna en columnes d'un DataFrame (si els grups estan numerats els utilitza com a nom de columna)."
   ]
  },
  {
   "cell_type": "markdown",
   "metadata": {
    "id": "VfJjZx5qMGyH"
   },
   "source": [
    "### Exercici 13\n",
    "Extreu totes les dates dels textos següents, separant dia, mes i any."
   ]
  },
  {
   "cell_type": "code",
   "execution_count": 25,
   "metadata": {
    "colab": {
     "base_uri": "https://localhost:8080/",
     "height": 173
    },
    "executionInfo": {
     "elapsed": 554,
     "status": "ok",
     "timestamp": 1612882633105,
     "user": {
      "displayName": "Fernando Mateo",
      "photoUrl": "https://lh3.googleusercontent.com/a-/AOh14Gizefb6yPZHZKjiub7uZkBVDAAlyxghIopf0kaJMA=s64",
      "userId": "00905419803076074042"
     },
     "user_tz": -60
    },
    "id": "oAIG_EoxMGyH",
    "outputId": "8ce88bab-af8b-4951-ea3a-1e21a9d46301",
    "scrolled": true
   },
   "outputs": [
    {
     "data": {
      "text/html": [
       "<div>\n",
       "<style scoped>\n",
       "    .dataframe tbody tr th:only-of-type {\n",
       "        vertical-align: middle;\n",
       "    }\n",
       "\n",
       "    .dataframe tbody tr th {\n",
       "        vertical-align: top;\n",
       "    }\n",
       "\n",
       "    .dataframe thead th {\n",
       "        text-align: right;\n",
       "    }\n",
       "</style>\n",
       "<table border=\"1\" class=\"dataframe\">\n",
       "  <thead>\n",
       "    <tr style=\"text-align: right;\">\n",
       "      <th></th>\n",
       "      <th>texto</th>\n",
       "    </tr>\n",
       "  </thead>\n",
       "  <tbody>\n",
       "    <tr>\n",
       "      <th>0</th>\n",
       "      <td>Tengo cita con el doctor el 3/10 a las 10</td>\n",
       "    </tr>\n",
       "    <tr>\n",
       "      <th>1</th>\n",
       "      <td>Juan nació el 28/3/78</td>\n",
       "    </tr>\n",
       "    <tr>\n",
       "      <th>2</th>\n",
       "      <td>Su primer hijo nació el nació el 3-10-2001 y e...</td>\n",
       "    </tr>\n",
       "    <tr>\n",
       "      <th>3</th>\n",
       "      <td>El 8/1/1998 se fué de viaje a Praga</td>\n",
       "    </tr>\n",
       "  </tbody>\n",
       "</table>\n",
       "</div>"
      ],
      "text/plain": [
       "                                               texto\n",
       "0          Tengo cita con el doctor el 3/10 a las 10\n",
       "1                              Juan nació el 28/3/78\n",
       "2  Su primer hijo nació el nació el 3-10-2001 y e...\n",
       "3                El 8/1/1998 se fué de viaje a Praga"
      ]
     },
     "execution_count": 25,
     "metadata": {},
     "output_type": "execute_result"
    }
   ],
   "source": [
    "fechas = [\"Tengo cita con el doctor el 3/10 a las 10\", \n",
    "          \"Juan nació el 28/3/78\",\n",
    "          \"Su primer hijo nació el nació el 3-10-2001 y el segundo el 10-1-2003\",\n",
    "          \"El 8/1/1998 se fué de viaje a Praga\"]\n",
    "\n",
    "df = pd.DataFrame(fechas, columns=['texto'])\n",
    "df"
   ]
  },
  {
   "cell_type": "code",
   "execution_count": 27,
   "metadata": {
    "colab": {
     "base_uri": "https://localhost:8080/",
     "height": 235
    },
    "executionInfo": {
     "elapsed": 576,
     "status": "ok",
     "timestamp": 1612886680951,
     "user": {
      "displayName": "Fernando Mateo",
      "photoUrl": "https://lh3.googleusercontent.com/a-/AOh14Gizefb6yPZHZKjiub7uZkBVDAAlyxghIopf0kaJMA=s64",
      "userId": "00905419803076074042"
     },
     "user_tz": -60
    },
    "id": "u9xgqVReMGyI",
    "outputId": "c3de5e70-057e-4d94-be7a-2f450853ec29"
   },
   "outputs": [
    {
     "name": "stdout",
     "output_type": "stream",
     "text": [
      "        Dia Mes   Año\n",
      "  match              \n",
      "0 0       3  10   NaN\n",
      "1 0      28   3    78\n",
      "2 0       3  10  2001\n",
      "  1      10   1  2003\n",
      "3 0       8   1  1998\n"
     ]
    }
   ],
   "source": [
    "patron_fecha = r'(?P<dia>\\d{1,2})[\\/-](?P<mes>\\d{1,2})[\\/-]*(?P<ano>\\d{2,4})*'\n",
    "\n",
    "fechas_extraidas = df['texto'].str.extractall(patron_fecha)\n",
    "\n",
    "fechas_extraidas.columns = ['Dia', 'Mes', 'Año']\n",
    "\n",
    "print(fechas_extraidas)"
   ]
  },
  {
   "cell_type": "markdown",
   "metadata": {},
   "source": [
    "### Exercici 14\n",
    "A partir de la recepta següent genera un dataframe amb les columnes següents:\n",
    "- `Ingredient`: nom de l'ingredient\n",
    "- `Quantitat`: valor numèric de la quantitat\n",
    "- `Unitats`: unitat en què s'expressa la quantitat  \n",
    "\n",
    "Notes:\\\n",
    "`Quantitat` i `Unitats` són opcionals. Considera com a possibles unitats 'gr', 'gramos', 'litro', 'litros','l' i 'ml'.  \n",
    "Cada línia conté un ingredient, amb el patró `'CANTIDAD? (UNIDADES de)? INGREDIENTE'`"
   ]
  },
  {
   "cell_type": "code",
   "execution_count": 28,
   "metadata": {},
   "outputs": [],
   "source": [
    "texto = \"\"\"\n",
    "200 gr de arroz redondo.\n",
    "1 litro de leche entera.\n",
    "100 gr de azúcar.\n",
    "2 ramas de canela.\n",
    "La cáscara de un limón.\n",
    "2 ml de esencia de vainilla.\n",
    "50 gramos de mantequilla (Opcional).\n",
    "\"\"\""
   ]
  },
  {
   "cell_type": "code",
   "execution_count": 31,
   "metadata": {},
   "outputs": [
    {
     "name": "stdout",
     "output_type": "stream",
     "text": [
      "   Quantitat Unitats           Ingredient     Notes\n",
      "0        200      gr        arroz redondo          \n",
      "1          1   litro         leche entera          \n",
      "2        100      gr               azúcar          \n",
      "3          2      ml  esencia de vainilla          \n",
      "4         50  gramos         mantequilla   Opcional\n"
     ]
    }
   ],
   "source": [
    "patron = r'(?P<cantidad>\\d+)?\\s+(?P<unidades>(?:gr|gramos|litro|litros|l|ml)?)\\s+de\\s+(?P<nombre>[\\w\\s]+)\\s*(?:\\((?P<notas>.*?)\\))?\\.'\n",
    "\n",
    "ingredientes = re.findall(patron, texto)\n",
    "\n",
    "df = pd.DataFrame(ingredientes, columns=['Quantitat', 'Unitats', 'Ingredient', 'Notes'])\n",
    "\n",
    "unidad_dict = {'gr': 'gr', 'gramos': 'gramos', 'litro': 'litro', 'litros': 'litros', 'l': 'l', 'ml': 'ml'}\n",
    "df['Unitats'] = df['Unitats'].replace(unidad_dict)\n",
    "\n",
    "df['Quantitat'] = pd.to_numeric(df['Quantitat'], errors='coerce')\n",
    "\n",
    "print(df)..."
   ]
  }
 ],
 "metadata": {
  "colab": {
   "collapsed_sections": [],
   "name": "NLP_02-Expresiones regulares.ipynb",
   "provenance": []
  },
  "kernelspec": {
   "display_name": "Python 3 (ipykernel)",
   "language": "python",
   "name": "python3"
  },
  "language_info": {
   "codemirror_mode": {
    "name": "ipython",
    "version": 3
   },
   "file_extension": ".py",
   "mimetype": "text/x-python",
   "name": "python",
   "nbconvert_exporter": "python",
   "pygments_lexer": "ipython3",
   "version": "3.12.1"
  },
  "vscode": {
   "interpreter": {
    "hash": "974d86b888590d91c91725277f46e2331e9f38bd583c386dd56dd3384a234a0e"
   }
  }
 },
 "nbformat": 4,
 "nbformat_minor": 4
}
