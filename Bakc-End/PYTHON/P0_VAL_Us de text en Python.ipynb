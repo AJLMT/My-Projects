{
 "cells": [
  {
   "attachments": {},
   "cell_type": "markdown",
   "id": "federal-stress",
   "metadata": {},
   "source": [
    "# Pràctica 0 - Processat del Llenguatje Natural\n",
    "## Ús de text en Python"
   ]
  },
  {
   "cell_type": "code",
   "execution_count": 2,
   "id": "satisfied-condition",
   "metadata": {},
   "outputs": [],
   "source": [
    "texto = \"Este és un text 'normal' en Python\""
   ]
  },
  {
   "attachments": {},
   "cell_type": "markdown",
   "id": "advance-living",
   "metadata": {},
   "source": [
    "### Exercici 1\n",
    "Crea una llista amb el nom `llista` que continga les paraules de la cadena `texto` i compta el nombre de paraules de la llista.  \n",
    "*Nota: considera que les paraules estan separades per el caràcter espai* (`' '`)"
   ]
  },
  {
   "cell_type": "code",
   "execution_count": 3,
   "id": "designed-darkness",
   "metadata": {},
   "outputs": [
    {
     "name": "stdout",
     "output_type": "stream",
     "text": [
      "7\n"
     ]
    }
   ],
   "source": [
    "llista = texto.split(' ')\n",
    "\n",
    "nombre_paraules = len(llista)\n",
    "\n",
    "print(nombre_paraules)"
   ]
  },
  {
   "attachments": {},
   "cell_type": "markdown",
   "id": "broken-duncan",
   "metadata": {},
   "source": [
    "### Exercici 2\n",
    "Crea una llista amb les paraules de `texto` que comencen per majùscula"
   ]
  },
  {
   "cell_type": "code",
   "execution_count": 4,
   "id": "unlike-screw",
   "metadata": {},
   "outputs": [
    {
     "name": "stdout",
     "output_type": "stream",
     "text": [
      "['Este', 'Python']\n"
     ]
    }
   ],
   "source": [
    "lista =[]\n",
    "\n",
    "for w in llista:\n",
    "    if w.istitle():\n",
    "        lista.append(w)\n",
    "\n",
    "print(lista)"
   ]
  },
  {
   "attachments": {},
   "cell_type": "markdown",
   "id": "familiar-frequency",
   "metadata": {},
   "source": [
    "### Exercici 3\n",
    "Converteix a majùscula les paraules de `texto` que tinguen una longitud major que tres."
   ]
  },
  {
   "cell_type": "code",
   "execution_count": 37,
   "id": "mental-commander",
   "metadata": {},
   "outputs": [
    {
     "name": "stdout",
     "output_type": "stream",
     "text": [
      "['ESTE', 'TEXT', \"'NORMAL'\", 'PYTHON']\n",
      "------------------------------------------------------------------------------\n",
      "['ESTE', 'és', 'un', 'TEXT', \"'NORMAL'\", 'en', 'PYTHON']\n"
     ]
    }
   ],
   "source": [
    "#Si lo que se quiere es que solo se muestren las palabras con longitud mayor a 3 en mayúsculas:\n",
    "lista =[]\n",
    "\n",
    "for w in llista:\n",
    "    if len(w) > 3:\n",
    "        lista.append(w.upper())\n",
    "\n",
    "print(lista)\n",
    "\n",
    "print('------------------------------------------------------------------------------')\n",
    "#Si lo que se quiere es que se muestren todas las palabras y las que tengan una longitud mayor a 3 aparezcan en mayúsculas:\n",
    "lista =[]\n",
    "\n",
    "for w in llista:\n",
    "    if len(w) > 3:\n",
    "        lista.append(w.upper())\n",
    "    else:\n",
    "        lista.append(w)\n",
    "\n",
    "print(lista)"
   ]
  },
  {
   "attachments": {},
   "cell_type": "markdown",
   "id": "sapphire-joshua",
   "metadata": {},
   "source": [
    "### Exercici 4\n",
    "Crea una cadena que continga *només* amb les paraules de `texto` acabades en `n`, separades per **coma**, i convertides en majúscules *només* si tenen una longitud major que tres"
   ]
  },
  {
   "cell_type": "code",
   "execution_count": 6,
   "id": "minute-communist",
   "metadata": {},
   "outputs": [
    {
     "name": "stdout",
     "output_type": "stream",
     "text": [
      "['PYTHON']\n"
     ]
    }
   ],
   "source": [
    "lista =[]\n",
    "\n",
    "for w in llista:\n",
    "    if w.endswith(\"n\"):\n",
    "        if len(w) > 3:\n",
    "            palabra = w.upper()\n",
    "            lista.append(palabra)\n",
    "\n",
    "print(lista)"
   ]
  },
  {
   "attachments": {},
   "cell_type": "markdown",
   "id": "annual-catch",
   "metadata": {},
   "source": [
    "### Exercici 5\n",
    "Enumera les paraules de la cadena `texto` indicant la posició i la seua longitud. P. ej:  \n",
    "\n",
    "`paraula 0: 'Este' (4 caracters)`"
   ]
  },
  {
   "cell_type": "code",
   "execution_count": 7,
   "id": "coupled-texas",
   "metadata": {},
   "outputs": [
    {
     "name": "stdout",
     "output_type": "stream",
     "text": [
      "paraula 0 : ' Este ' ( 4 caracters)\n",
      "paraula 1 : ' és ' ( 2 caracters)\n",
      "paraula 2 : ' un ' ( 2 caracters)\n",
      "paraula 3 : ' text ' ( 4 caracters)\n",
      "paraula 4 : ' 'normal' ' ( 8 caracters)\n",
      "paraula 5 : ' en ' ( 2 caracters)\n",
      "paraula 6 : ' Python ' ( 6 caracters)\n"
     ]
    }
   ],
   "source": [
    "i = 0\n",
    "\n",
    "for w in llista:\n",
    "    print(\"paraula\", i, \": '\", w, \"' (\", len(w), \"caracters)\")\n",
    "    i = i + 1"
   ]
  },
  {
   "attachments": {},
   "cell_type": "markdown",
   "id": "broad-jason",
   "metadata": {},
   "source": [
    "## Ús de text en Pandas"
   ]
  },
  {
   "cell_type": "code",
   "execution_count": 8,
   "id": "returning-bosnia",
   "metadata": {
    "scrolled": true
   },
   "outputs": [
    {
     "name": "stderr",
     "output_type": "stream",
     "text": [
      "C:\\Users\\ajlmt\\AppData\\Local\\Temp\\ipykernel_7628\\1233682805.py:1: DeprecationWarning: \n",
      "Pyarrow will become a required dependency of pandas in the next major release of pandas (pandas 3.0),\n",
      "(to allow more performant data types, such as the Arrow string type, and better interoperability with other libraries)\n",
      "but was not found to be installed on your system.\n",
      "If this would cause problems for you,\n",
      "please provide us feedback at https://github.com/pandas-dev/pandas/issues/54466\n",
      "        \n",
      "  import pandas as pd\n"
     ]
    },
    {
     "data": {
      "text/plain": [
       "'2.2.0'"
      ]
     },
     "execution_count": 8,
     "metadata": {},
     "output_type": "execute_result"
    }
   ],
   "source": [
    "import pandas as pd\n",
    "import numpy as np\n",
    "pd.__version__"
   ]
  },
  {
   "attachments": {},
   "cell_type": "markdown",
   "id": "convinced-worker",
   "metadata": {},
   "source": [
    "### Exercici 6\n",
    "Converteix la llista de *strings* anterior a un objecte `Series` de Pandas de tipus `dtype=string` amb el nom `serie`."
   ]
  },
  {
   "cell_type": "code",
   "execution_count": 25,
   "id": "prepared-flesh",
   "metadata": {},
   "outputs": [
    {
     "data": {
      "text/plain": [
       "0        Este\n",
       "1          és\n",
       "2          un\n",
       "3        text\n",
       "4    'normal'\n",
       "5          en\n",
       "6      Python\n",
       "dtype: string"
      ]
     },
     "execution_count": 25,
     "metadata": {},
     "output_type": "execute_result"
    }
   ],
   "source": [
    "serie = pd.Series(\n",
    "    llista,\n",
    "     dtype=\"string\",\n",
    " )\n",
    "serie"
   ]
  },
  {
   "attachments": {},
   "cell_type": "markdown",
   "id": "scheduled-affiliate",
   "metadata": {},
   "source": [
    "### Exercici 7\n",
    "Converteix els elements del objecte `Serie` a majùscules."
   ]
  },
  {
   "cell_type": "code",
   "execution_count": 10,
   "id": "original-delivery",
   "metadata": {},
   "outputs": [
    {
     "data": {
      "text/plain": [
       "0        ESTE\n",
       "1          ÉS\n",
       "2          UN\n",
       "3        TEXT\n",
       "4    'NORMAL'\n",
       "5          EN\n",
       "6      PYTHON\n",
       "dtype: string"
      ]
     },
     "execution_count": 10,
     "metadata": {},
     "output_type": "execute_result"
    }
   ],
   "source": [
    "serie_mayus= serie.str.upper()\n",
    "\n",
    "serie_mayus"
   ]
  },
  {
   "attachments": {},
   "cell_type": "markdown",
   "id": "requested-naples",
   "metadata": {},
   "source": [
    "### Exercici 8\n",
    "Compta el nombre d'aparicions del caràcter 'e' (o 'E') en cada element del objecte `serie`.  \n",
    "*Nota*: Converteix primer tot el text a majùscules i utilitza el mètode `count()` sobre el atribut `str` del objecte `Series`"
   ]
  },
  {
   "cell_type": "code",
   "execution_count": 28,
   "id": "announced-closure",
   "metadata": {},
   "outputs": [
    {
     "name": "stdout",
     "output_type": "stream",
     "text": [
      "0    2\n",
      "1    0\n",
      "2    0\n",
      "3    1\n",
      "4    0\n",
      "5    1\n",
      "6    0\n",
      "dtype: Int64\n"
     ]
    }
   ],
   "source": [
    "#Utilizamos la variable serie_mayus del Ejercicio 7\n",
    "print(serie_mayus.str.count('E'))"
   ]
  },
  {
   "attachments": {},
   "cell_type": "markdown",
   "id": "southwest-pressing",
   "metadata": {},
   "source": [
    "### Exercici 9\n",
    "Crea un `DataFrame` de Pandas amb els elements originals de la teua sèrie i dues columnes amb:  \n",
    "- Elements que contenen la lletra 'e' (case insensitive)\n",
    "- Elements que comences per la lletra 'E' (sóls majúscules)"
   ]
  },
  {
   "cell_type": "code",
   "execution_count": 23,
   "id": "descending-cycling",
   "metadata": {},
   "outputs": [
    {
     "name": "stdout",
     "output_type": "stream",
     "text": [
      "      Serie  Conte_e  Comences_per_E\n",
      "0      Este     True            True\n",
      "1        és    False           False\n",
      "2        un    False           False\n",
      "3      text     True           False\n",
      "4  'normal'    False           False\n",
      "5        en     True           False\n",
      "6    Python    False           False\n"
     ]
    }
   ],
   "source": [
    "DF = pd.DataFrame({\"Serie\": serie})\n",
    "\n",
    "DF['Conte_e'] = DF['Serie'].str.lower().str.contains('e')\n",
    "DF['Comences_per_E'] = DF['Serie'].str.startswith('E')\n",
    "\n",
    "print(DF)"
   ]
  },
  {
   "attachments": {},
   "cell_type": "markdown",
   "id": "universal-effect",
   "metadata": {},
   "source": [
    "### Exercici 10\n",
    "Quants elements contenen al menys un caràcter 'n'?  \n",
    "*Nota*: recorda que les Series de tipus booleano es poden sumar amb `sum()`"
   ]
  },
  {
   "cell_type": "code",
   "execution_count": 36,
   "id": "variable-charger",
   "metadata": {},
   "outputs": [
    {
     "name": "stdout",
     "output_type": "stream",
     "text": [
      "4\n"
     ]
    }
   ],
   "source": [
    "DF['Conte_n'] = DF['Serie'].str.contains('n')\n",
    "\n",
    "print(DF['Conte_n'].sum())"
   ]
  },
  {
   "attachments": {},
   "cell_type": "markdown",
   "id": "mediterranean-terrace",
   "metadata": {},
   "source": [
    "## Generator comprenhension i List comprenhension\n",
    "### Exercici 11\n",
    "Crea un generador anomenat `gen` que recorrega la llista de text de l'exercici 1 i torne cada volta una tupla amb la següent paraula i la seua longitud."
   ]
  },
  {
   "cell_type": "code",
   "execution_count": 14,
   "id": "promotional-wound",
   "metadata": {},
   "outputs": [],
   "source": [
    "def generador(lista):\n",
    "    for w in lista:\n",
    "        yield (w, len(w))\n",
    "\n",
    "gen = generador(llista)"
   ]
  },
  {
   "attachments": {},
   "cell_type": "markdown",
   "id": "twelve-twins",
   "metadata": {},
   "source": [
    "Comproba que funciona correctament:"
   ]
  },
  {
   "cell_type": "code",
   "execution_count": 15,
   "id": "chemical-vinyl",
   "metadata": {},
   "outputs": [
    {
     "name": "stdout",
     "output_type": "stream",
     "text": [
      "('Este', 4)\n",
      "('és', 2)\n",
      "('un', 2)\n",
      "('text', 4)\n",
      "(\"'normal'\", 8)\n",
      "('en', 2)\n",
      "('Python', 6)\n"
     ]
    }
   ],
   "source": [
    "for i in gen:\n",
    "    print(i)"
   ]
  },
  {
   "attachments": {},
   "cell_type": "markdown",
   "id": "distinguished-policy",
   "metadata": {},
   "source": [
    "### Exercici 12\n",
    "Repeteix el exercici 11 enumerant només les paraules acabades en 'n'"
   ]
  },
  {
   "cell_type": "code",
   "execution_count": 41,
   "id": "ancient-color",
   "metadata": {},
   "outputs": [
    {
     "name": "stdout",
     "output_type": "stream",
     "text": [
      "('un', 2)\n",
      "('en', 2)\n",
      "('Python', 6)\n",
      "------------------------------------------------------------------------------\n",
      "Este\n",
      "és\n",
      "('un', 2)\n",
      "text\n",
      "'normal'\n",
      "('en', 2)\n",
      "('Python', 6)\n"
     ]
    }
   ],
   "source": [
    "#Si con este ejercicio se refiere a mostrar solo aquellas palabras acabadas en 'n'\n",
    "def generador2(lista):\n",
    "    for w in lista:\n",
    "        if(w.endswith('n')):\n",
    "            yield (w, len(w))\n",
    "\n",
    "gen2 = generador2(llista)\n",
    "for i in gen2:\n",
    "    print(i)\n",
    "\n",
    "print('------------------------------------------------------------------------------')\n",
    "#Si con este ejercicio se refiere a mostrar todas las palabras del ejercicio 1 y las acabadas en 'n' su longitud\n",
    "def generador3(lista):\n",
    "    for w in lista:\n",
    "        if(w.endswith('n')):\n",
    "            yield (w, len(w))\n",
    "        else:\n",
    "            yield(w)\n",
    "\n",
    "gen3 = generador3(llista)\n",
    "for i in gen3:\n",
    "    print(i)"
   ]
  }
 ],
 "metadata": {
  "kernelspec": {
   "display_name": "Python 3 (ipykernel)",
   "language": "python",
   "name": "python3"
  },
  "language_info": {
   "codemirror_mode": {
    "name": "ipython",
    "version": 3
   },
   "file_extension": ".py",
   "mimetype": "text/x-python",
   "name": "python",
   "nbconvert_exporter": "python",
   "pygments_lexer": "ipython3",
   "version": "3.12.1"
  },
  "vscode": {
   "interpreter": {
    "hash": "974d86b888590d91c91725277f46e2331e9f38bd583c386dd56dd3384a234a0e"
   }
  }
 },
 "nbformat": 4,
 "nbformat_minor": 5
}
